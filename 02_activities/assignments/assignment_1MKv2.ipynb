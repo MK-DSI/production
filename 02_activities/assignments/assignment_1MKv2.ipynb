{
 "cells": [
  {
   "cell_type": "markdown",
   "metadata": {},
   "source": [
    "# Working with parquet files\n",
    "\n",
    "## Objective\n",
    "\n",
    "+ In this assignment, we will use the data downloaded with the module `data_manager` to create features.\n",
    "\n",
    "(11 pts total)\n",
    "\n",
    "## Prerequisites\n",
    "\n",
    "+ This notebook assumes that price data is available to you in the environment variable `PRICE_DATA`. If you have not done so, then execute the notebook `01_materials/labs/2_data_engineering.ipynb` to create this data set.\n"
   ]
  },
  {
   "cell_type": "markdown",
   "metadata": {},
   "source": [
    "+ Load the environment variables using dotenv. (1 pt)"
   ]
  },
  {
   "cell_type": "code",
   "execution_count": 3,
   "metadata": {},
   "outputs": [],
   "source": [
    "# Write your code below.\n",
    "%load_ext dotenv\n",
    "%dotenv \n",
    "\n",
    "import os\n",
    "import sys\n",
    "\n",
    "sys.path.append(os.getenv('SRC_DIR'))\n",
    "from logger import get_logger\n",
    "_logs = get_logger (__name__)\n",
    "\n"
   ]
  },
  {
   "cell_type": "code",
   "execution_count": 4,
   "metadata": {},
   "outputs": [
    {
     "name": "stderr",
     "output_type": "stream",
     "text": [
      "c:\\Users\\Mariya\\miniconda3\\envs\\dsi_participant\\lib\\site-packages\\dask\\dataframe\\_pyarrow_compat.py:17: FutureWarning: Minimal version of pyarrow will soon be increased to 14.0.1. You are using 11.0.0. Please consider upgrading.\n",
      "  warnings.warn(\n",
      "C:\\Users\\Mariya\\AppData\\Local\\Temp\\ipykernel_21244\\1997881418.py:1: DeprecationWarning: The current Dask DataFrame implementation is deprecated. \n",
      "In a future release, Dask DataFrame will use new implementation that\n",
      "contains several improvements including a logical query planning.\n",
      "The user-facing DataFrame API will remain unchanged.\n",
      "\n",
      "The new implementation is already available and can be enabled by\n",
      "installing the dask-expr library:\n",
      "\n",
      "    $ pip install dask-expr\n",
      "\n",
      "and turning the query planning option on:\n",
      "\n",
      "    >>> import dask\n",
      "    >>> dask.config.set({'dataframe.query-planning': True})\n",
      "    >>> import dask.dataframe as dd\n",
      "\n",
      "API documentation for the new implementation is available at\n",
      "https://docs.dask.org/en/stable/dask-expr-api.html\n",
      "\n",
      "Any feedback can be reported on the Dask issue tracker\n",
      "https://github.com/dask/dask/issues \n",
      "\n",
      "  import dask.dataframe as dd\n"
     ]
    }
   ],
   "source": [
    "import dask.dataframe as dd\n",
    "import pandas as pd\n",
    "import numpy as np"
   ]
  },
  {
   "cell_type": "markdown",
   "metadata": {},
   "source": [
    "+ Load the environment variable `PRICE_DATA`.\n",
    "+ Use [glob](https://docs.python.org/3/library/glob.html) to find the path of all parquet files in the directory `PRICE_DATA`.\n",
    "\n",
    "(1pt)"
   ]
  },
  {
   "cell_type": "code",
   "execution_count": 5,
   "metadata": {},
   "outputs": [
    {
     "name": "stderr",
     "output_type": "stream",
     "text": [
      "c:\\Users\\Mariya\\miniconda3\\envs\\dsi_participant\\lib\\site-packages\\dask\\dataframe\\core.py:5517: UserWarning: New index has same name as existing, this is a no-op.\n",
      "  warnings.warn(\n"
     ]
    },
    {
     "name": "stdout",
     "output_type": "stream",
     "text": [
      "             Date       Open       High        Low      Close  Adj Close  \\\n",
      "ticker                                                                     \n",
      "A      2000-01-03  56.330471  56.464592  48.193848  51.502148  43.463036   \n",
      "A      2000-01-04  48.730328  49.266811  46.316166  47.567955  40.142933   \n",
      "A      2000-01-05  47.389126  47.567955  43.141991  44.617310  37.652882   \n",
      "A      2000-01-06  44.080830  44.349072  41.577251  42.918453  36.219193   \n",
      "A      2000-01-07  42.247852  47.165592  42.203148  46.494991  39.237461   \n",
      "\n",
      "         Volume       sector                       subsector  year  \n",
      "ticker                                                              \n",
      "A       4674353  Health Care  Life Sciences Tools & Services  2000  \n",
      "A       4765083  Health Care  Life Sciences Tools & Services  2000  \n",
      "A       5758642  Health Care  Life Sciences Tools & Services  2000  \n",
      "A       2534434  Health Care  Life Sciences Tools & Services  2000  \n",
      "A       2819626  Health Care  Life Sciences Tools & Services  2000  \n"
     ]
    }
   ],
   "source": [
    "import os\n",
    "from glob import glob\n",
    "\n",
    "ft_dir = os.getenv(\"PRICE_DATA\")\n",
    "ft_dir\n",
    "ft_glob = glob(os.path.join(ft_dir, '**/*.parquet'), recursive = True)\n",
    "ft_glob = [f for f in ft_glob if os.path.isfile(f)]\n",
    "ft_glob\n",
    "df_px = dd.read_parquet(ft_glob).set_index(\"ticker\")\n",
    "print(df_px.head())\n",
    "\n"
   ]
  },
  {
   "cell_type": "code",
   "execution_count": 150,
   "metadata": {},
   "outputs": [
    {
     "data": {
      "text/plain": [
       "2779193"
      ]
     },
     "execution_count": 150,
     "metadata": {},
     "output_type": "execute_result"
    }
   ],
   "source": [
    "len(df_px)"
   ]
  },
  {
   "cell_type": "markdown",
   "metadata": {},
   "source": [
    "For each ticker and using Dask, do the following:\n",
    "\n",
    "+ Add lags for variables Close and Adj_Close.\n",
    "+ Add returns based on Adjusted Close:\n",
    "    \n",
    "    - `returns`: (Adj Close / Adj Close_lag) - 1\n",
    "\n",
    "+ Add the following range: \n",
    "\n",
    "    - `hi_lo_range`: this is the day's High minus Low.\n",
    "\n",
    "+ Assign the result to `dd_feat`.\n",
    "\n",
    "(4 pt)"
   ]
  },
  {
   "cell_type": "code",
   "execution_count": 19,
   "metadata": {},
   "outputs": [
    {
     "name": "stderr",
     "output_type": "stream",
     "text": [
      "C:\\Users\\Mariya\\AppData\\Local\\Temp\\ipykernel_21244\\2249471394.py:1: UserWarning: `meta` is not specified, inferred from partial data. Please provide `meta` if the result is unexpected.\n",
      "  Before: .apply(func)\n",
      "  After:  .apply(func, meta={'x': 'f8', 'y': 'f8'}) for dataframe result\n",
      "  or:     .apply(func, meta=('x', 'f8'))            for series result\n",
      "  dd_rets = (df_px.groupby('ticker', group_keys=False).apply(\n",
      "C:\\Users\\Mariya\\AppData\\Local\\Temp\\ipykernel_21244\\2249471394.py:9: UserWarning: `meta` is not specified, inferred from partial data. Please provide `meta` if the result is unexpected.\n",
      "  Before: .apply(func)\n",
      "  After:  .apply(func, meta={'x': 'f8', 'y': 'f8'}) for dataframe result\n",
      "  or:     .apply(func, meta=('x', 'f8'))            for series result\n",
      "  dd_rets1 = (dd_rets.groupby('ticker', group_keys=False).apply(\n"
     ]
    }
   ],
   "source": [
    "dd_rets = (df_px.groupby('ticker', group_keys=False).apply(\n",
    "    lambda x: x.assign(Close_lag_1 = x['Close'].shift(1))\n",
    ").assign(\n",
    "    returns = lambda x: x['Close']/x['Close_lag_1'] - 1\n",
    ").assign(\n",
    "    positive_return = lambda x: (x['returns'] > 0)*1\n",
    "))\n",
    "\n",
    "dd_rets1 = (dd_rets.groupby('ticker', group_keys=False).apply(\n",
    "    lambda x: x.assign(AdjClose_lag_1 = x['Adj Close'].shift(1))\n",
    "#).apply(\n",
    "#    lambda x: x.assign(Close_lag_1 = x['Close'].shift(1))\n",
    ").assign(\n",
    "    returns = lambda x: x['Adj Close']/x['AdjClose_lag_1'] - 1\n",
    ").assign(\n",
    "    hi_lo_range = lambda x: (x['High']-x['Low'])\n",
    "))"
   ]
  },
  {
   "cell_type": "code",
   "execution_count": 22,
   "metadata": {},
   "outputs": [],
   "source": [
    "dd_rets1\n",
    "dd_feat = dd_rets1"
   ]
  },
  {
   "cell_type": "markdown",
   "metadata": {},
   "source": [
    "+ Convert the Dask data frame to a pandas data frame. \n",
    "+ Add a rolling average return calculation with a window of 10 days.\n",
    "+ *Tip*: Consider using `.rolling(10).mean()`.\n",
    "\n",
    "(3 pt)"
   ]
  },
  {
   "cell_type": "code",
   "execution_count": 23,
   "metadata": {},
   "outputs": [],
   "source": [
    "# Write your code below.\n",
    "dd_feat_pandas = dd_feat.compute()\n",
    "dd_feat_pandas['rolling_avg_return'] = dd_feat_pandas['returns'].rolling(window=10).mean()"
   ]
  },
  {
   "cell_type": "code",
   "execution_count": 25,
   "metadata": {},
   "outputs": [
    {
     "name": "stdout",
     "output_type": "stream",
     "text": [
      "             Date        Open        High         Low       Close   Adj Close  \\\n",
      "ticker                                                                          \n",
      "A      2018-09-28   70.690002   71.000000   70.459999   70.540001   67.407463   \n",
      "A      2022-03-21  137.630005  139.789993  137.009995  138.139999  135.558334   \n",
      "A      2022-03-18  136.210007  139.389999  136.210007  139.119995  136.520020   \n",
      "A      2022-03-17  134.000000  136.850006  133.610001  136.820007  134.263000   \n",
      "A      2022-03-16  131.929993  135.610001  131.300003  135.000000  132.477020   \n",
      "...           ...         ...         ...         ...         ...         ...   \n",
      "ZTS    2017-12-01   72.220001   72.349998   71.279999   72.300003   68.791153   \n",
      "ZTS    2017-12-04   72.440002   72.790001   71.000000   71.019997   67.573257   \n",
      "ZTS    2017-12-05   70.820000   71.769997   70.599998   70.849998   67.411514   \n",
      "ZTS    2017-11-21   71.029999   72.139999   70.970001   71.360001   67.896774   \n",
      "ZTS    2013-03-05   34.410000   34.480000   33.750000   34.290001   31.414871   \n",
      "\n",
      "         Volume       sector                       subsector  year  \\\n",
      "ticker                                                               \n",
      "A       2248100  Health Care  Life Sciences Tools & Services  2018   \n",
      "A       1285100  Health Care  Life Sciences Tools & Services  2022   \n",
      "A       2766600  Health Care  Life Sciences Tools & Services  2022   \n",
      "A       1167900  Health Care  Life Sciences Tools & Services  2022   \n",
      "A       1673000  Health Care  Life Sciences Tools & Services  2022   \n",
      "...         ...          ...                             ...   ...   \n",
      "ZTS     1932200  Health Care                 Pharmaceuticals  2017   \n",
      "ZTS     3581400  Health Care                 Pharmaceuticals  2017   \n",
      "ZTS     2261500  Health Care                 Pharmaceuticals  2017   \n",
      "ZTS     2725400  Health Care                 Pharmaceuticals  2017   \n",
      "ZTS     1413400  Health Care                 Pharmaceuticals  2013   \n",
      "\n",
      "        Close_lag_1   returns  positive_return  AdjClose_lag_1  hi_lo_range  \\\n",
      "ticker                                                                        \n",
      "A         70.800003 -0.003673                0       67.655937     0.540001   \n",
      "A        139.119995 -0.007044                0      136.520020     2.779999   \n",
      "A        136.820007  0.016810                1      134.263000     3.179993   \n",
      "A        135.000000  0.013481                1      132.477020     3.240005   \n",
      "A        130.279999  0.036230                1      127.845230     4.309998   \n",
      "...             ...       ...              ...             ...          ...   \n",
      "ZTS       72.290001  0.000139                1       68.781624     1.070000   \n",
      "ZTS       72.300003 -0.017704                0       68.791153     1.790001   \n",
      "ZTS       71.019997 -0.002394                0       67.573257     1.169998   \n",
      "ZTS       70.949997  0.005779                1       67.506660     1.169998   \n",
      "ZTS       34.349998 -0.001746                0       31.469830     0.730000   \n",
      "\n",
      "        rolling_avg_return  \n",
      "ticker                      \n",
      "A                 0.002467  \n",
      "A                 0.006044  \n",
      "A                 0.004097  \n",
      "A                 0.000024  \n",
      "A                 0.001688  \n",
      "...                    ...  \n",
      "ZTS               0.002659  \n",
      "ZTS               0.000349  \n",
      "ZTS              -0.000116  \n",
      "ZTS               0.004354  \n",
      "ZTS               0.001515  \n",
      "\n",
      "[2779193 rows x 16 columns]\n"
     ]
    }
   ],
   "source": [
    "dd_feat_pandas\n",
    "sorted_dd_feat = dd_feat_pandas.sort_values(by='ticker')\n",
    "print(sorted_dd_feat)"
   ]
  },
  {
   "cell_type": "markdown",
   "metadata": {},
   "source": [
    "Please comment:\n",
    "\n",
    "+ Was it necessary to convert to pandas to calculate the moving average return?\n",
    "+ Would it have been better to do it in Dask? Why?\n",
    "\n",
    "(1 pt)"
   ]
  },
  {
   "cell_type": "markdown",
   "metadata": {},
   "source": [
    "No, it was not necessary to convert to pandas, the calculation could have been calculated directly in Dask. \n",
    "In Dask the same calculations might have been done more efficiently since Dask generally can handle large datasets better then pandas."
   ]
  },
  {
   "cell_type": "markdown",
   "metadata": {},
   "source": [
    "## Criteria\n",
    "\n",
    "The [rubric](./assignment_1_rubric_clean.xlsx) contains the criteria for grading."
   ]
  },
  {
   "cell_type": "markdown",
   "metadata": {},
   "source": [
    "## Submission Information\n",
    "\n",
    "🚨 **Please review our [Assignment Submission Guide](https://github.com/UofT-DSI/onboarding/blob/main/onboarding_documents/submissions.md)** 🚨 for detailed instructions on how to format, branch, and submit your work. Following these guidelines is crucial for your submissions to be evaluated correctly.\n",
    "\n",
    "### Submission Parameters:\n",
    "* Submission Due Date: `HH:MM AM/PM - DD/MM/YYYY`\n",
    "* The branch name for your repo should be: `assignment-1`\n",
    "* What to submit for this assignment:\n",
    "    * This Jupyter Notebook (assignment_1.ipynb) should be populated and should be the only change in your pull request.\n",
    "* What the pull request link should look like for this assignment: `https://github.com/<your_github_username>/production/pull/<pr_id>`\n",
    "    * Open a private window in your browser. Copy and paste the link to your pull request into the address bar. Make sure you can see your pull request properly. This helps the technical facilitator and learning support staff review your submission easily.\n",
    "\n",
    "Checklist:\n",
    "- [ ] Created a branch with the correct naming convention.\n",
    "- [ ] Ensured that the repository is public.\n",
    "- [ ] Reviewed the PR description guidelines and adhered to them.\n",
    "- [ ] Verify that the link is accessible in a private browser window.\n",
    "\n",
    "If you encounter any difficulties or have questions, please don't hesitate to reach out to our team via our Slack at `#cohort-3-help`. Our Technical Facilitators and Learning Support staff are here to help you navigate any challenges."
   ]
  }
 ],
 "metadata": {
  "kernelspec": {
   "display_name": "dsi_participant",
   "language": "python",
   "name": "python3"
  },
  "language_info": {
   "codemirror_mode": {
    "name": "ipython",
    "version": 3
   },
   "file_extension": ".py",
   "mimetype": "text/x-python",
   "name": "python",
   "nbconvert_exporter": "python",
   "pygments_lexer": "ipython3",
   "version": "3.9.15"
  }
 },
 "nbformat": 4,
 "nbformat_minor": 2
}
